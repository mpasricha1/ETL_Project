{
 "cells": [
  {
   "cell_type": "code",
   "execution_count": 39,
   "metadata": {},
   "outputs": [],
   "source": [
    "from splinter import Browser\n",
    "from bs4 import BeautifulSoup as bs\n",
    "import pandas as pd\n",
    "import requests"
   ]
  },
  {
   "cell_type": "code",
   "execution_count": 40,
   "metadata": {},
   "outputs": [],
   "source": [
    "# @NOTE: Replace the path with your actual path to the chromedriver\n",
    "executable_path = {\"executable_path\": \"chromedriver\"}\n",
    "browser = Browser(\"chrome\", **executable_path, headless=False)"
   ]
  },
  {
   "cell_type": "code",
   "execution_count": 41,
   "metadata": {
    "scrolled": false
   },
   "outputs": [
    {
     "name": "stdout",
     "output_type": "stream",
     "text": [
      "\n",
      "95-100 — Classic: Great wines\n",
      "90-94 — Outstanding: Wines of superior character and style\n",
      "85-89 — Very good: Wines with special qualities\n",
      "80-84 — Good: Solid, well-made wines\n",
      "75-79 — Mediocre: Drinkable wines that may have minor flaws\n",
      "50-74 — Not recommended\n",
      "\n",
      "\n",
      "Drink: Most of the wines can be enjoyed now and will see little or no improvement if stored\n",
      "Hold: Most of the ageworthy wines have yet to fully mature; they should improve over time if stored properly\n",
      "Drink or Hold: The wines can be enjoyed now, though may benefit from more time in the bottle if you enjoy the characteristics of older wines\n",
      "Past Peak: Most of the wines are declining\n",
      "NYR: Most of the wines from the vintage have not yet been released\n",
      "\n"
     ]
    }
   ],
   "source": [
    "# def scrape_all():\n",
    "# 1.......Get Mars news\n",
    "url = \"https://www.winespectator.com/articles/about-our-vintage-charts/\"\n",
    "browser.visit(url)\n",
    "    \n",
    "# scrape page into soup\n",
    "html = browser.html\n",
    "ratingSoup = bs(html, \"html.parser\")\n",
    "\n",
    "# update below variables\n",
    "ratingComponents = ratingSoup.find('div', class_='article__body-content')\n",
    "score = ratingComponents.find_all('ul')[0].text\n",
    "drink = ratingComponents.find_all('ul')[1].text\n",
    "\n",
    "\n",
    "print(score)\n",
    "print(drink)\n",
    "# scoreList"
   ]
  },
  {
   "cell_type": "code",
   "execution_count": 51,
   "metadata": {
    "scrolled": true
   },
   "outputs": [
    {
     "data": {
      "text/html": [
       "<div>\n",
       "<style scoped>\n",
       "    .dataframe tbody tr th:only-of-type {\n",
       "        vertical-align: middle;\n",
       "    }\n",
       "\n",
       "    .dataframe tbody tr th {\n",
       "        vertical-align: top;\n",
       "    }\n",
       "\n",
       "    .dataframe thead th {\n",
       "        text-align: right;\n",
       "    }\n",
       "</style>\n",
       "<table border=\"1\" class=\"dataframe\">\n",
       "  <thead>\n",
       "    <tr style=\"text-align: right;\">\n",
       "      <th></th>\n",
       "      <th>Range</th>\n",
       "    </tr>\n",
       "  </thead>\n",
       "  <tbody>\n",
       "    <tr>\n",
       "      <th>0</th>\n",
       "      <td>\\n95-100 — Classic: Great wines\\n90-94 — Outst...</td>\n",
       "    </tr>\n",
       "  </tbody>\n",
       "</table>\n",
       "</div>"
      ],
      "text/plain": [
       "                                               Range\n",
       "0  \\n95-100 — Classic: Great wines\\n90-94 — Outst..."
      ]
     },
     "execution_count": 51,
     "metadata": {},
     "output_type": "execute_result"
    }
   ],
   "source": [
    "score_df = pd.DataFrame({'Range': [score]})\n",
    "score_df\n"
   ]
  },
  {
   "cell_type": "code",
   "execution_count": null,
   "metadata": {},
   "outputs": [],
   "source": []
  },
  {
   "cell_type": "code",
   "execution_count": 52,
   "metadata": {},
   "outputs": [],
   "source": []
  },
  {
   "cell_type": "code",
   "execution_count": 53,
   "metadata": {},
   "outputs": [],
   "source": []
  },
  {
   "cell_type": "code",
   "execution_count": null,
   "metadata": {},
   "outputs": [],
   "source": []
  }
 ],
 "metadata": {
  "kernelspec": {
   "display_name": "Python [conda env:PythonData] *",
   "language": "python",
   "name": "conda-env-PythonData-py"
  },
  "language_info": {
   "codemirror_mode": {
    "name": "ipython",
    "version": 3
   },
   "file_extension": ".py",
   "mimetype": "text/x-python",
   "name": "python",
   "nbconvert_exporter": "python",
   "pygments_lexer": "ipython3",
   "version": "3.7.6"
  }
 },
 "nbformat": 4,
 "nbformat_minor": 4
}
